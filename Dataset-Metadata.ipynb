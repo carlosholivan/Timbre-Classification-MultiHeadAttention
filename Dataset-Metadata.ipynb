{
 "cells": [
  {
   "cell_type": "code",
   "execution_count": 1,
   "id": "published-prime",
   "metadata": {},
   "outputs": [],
   "source": [
    "import numpy as np\n",
    "import seaborn as sns\n",
    "import os\n",
    "import pandas as pd"
   ]
  },
  {
   "cell_type": "code",
   "execution_count": 33,
   "id": "wanted-insight",
   "metadata": {},
   "outputs": [],
   "source": [
    "path = 'H:\\\\INVESTIGACION\\\\Datasets\\\\London Philarmonic Orchestra\\\\'\n",
    "set = 'test'"
   ]
  },
  {
   "cell_type": "code",
   "execution_count": 34,
   "id": "found-dodge",
   "metadata": {},
   "outputs": [],
   "source": [
    "chromatic_prec = ['agogo-bells', 'banana-shaker', 'bass-drum', 'bell-tree', 'cabasa', 'Chinese-hand-cymbals',\n",
    "                        'castanets', 'Chinese-cymbal', 'clash-cymbals', 'cowbell', 'djembe', 'djundjun', 'flexatone', 'guiro',\n",
    "                        'lemon-shaker',  'motor-horn',  'ratchet', 'sheeps-toenails', 'sizzle-cymbal', 'sleigh-bells', 'snare-drum',\n",
    "                        'spring-coil', 'squeaker', 'strawberry-shaker', 'surdo', 'suspended-cymbal', 'swanee-whistle',\n",
    "                        'tambourine', 'tam-tam', 'tenor-drum', 'Thai-gong', 'tom-toms', 'train-whistle', 'triangle',\n",
    "                        'vibraslap', 'washboard', 'whip', 'wind-chimes', 'woodblock']\n",
    "strings = ['violin', 'viola', 'cello', 'double-bass', 'banjo', 'guitar', 'mandolin']\n",
    "woodwinds = ['clarinet', 'bass-clarinet', 'saxophone', 'flute', 'oboe', 'bassoon']\n",
    "brass = ['english-horn', 'french-horn', 'trombone', 'trumpet', 'tuba']"
   ]
  },
  {
   "cell_type": "code",
   "execution_count": 35,
   "id": "extreme-implementation",
   "metadata": {},
   "outputs": [
    {
     "name": "stdout",
     "output_type": "stream",
     "text": [
      "['banjo', 'bass-clarinet', 'chromatic-percussion', 'bassoon', 'cello', 'clarinet', 'contrabassoon', 'double-bass', 'english-horn', 'flute', 'french-horn', 'guitar', 'mandolin', 'oboe', 'saxophone', 'trombone', 'trumpet', 'tuba', 'viola', 'violin']\n",
      "['Gs3', 'Gs4', 'Gs5', '', 'Gs2', 'Gs6', 'Gs1', 'Gs7']\n",
      "['piano', 'forte', 'fortissimo', 'pianissimo', 'cresc-decresc', 'mezzo-forte', 'mezzo-piano', 'molto-pianissimo', 'crescendo']\n",
      "['normal', 'harmonic', 'rute', 'major-trill', 'minor-trill', 'roll', 'arco-normal', 'arco-col-legno-battuto', 'arco-harmonic', 'rhythm', 'fluttertonguing', 'tremolo', 'mute', 'scraped', 'shaken', 'struck-singly', 'rimshot', 'double-tonguing', 'triple-tonguing', 'vibrato', 'glissando', 'non-vibrato', 'arco-glissando', 'pizz-normal', 'snap-pizz', 'arco-martele', 'arco-spiccato', 'arco-staccato', 'arco-legato', 'arco-tenuto', 'arco-tremolo', 'arco-au-talon', 'arco-col-legno-tratto', 'con-sord', 'artificial-harmonic', 'molto-vibrato', 'arco-sul-ponticello', 'arco-sul-tasto', \"arco-punta-d'arco\", 'natural-harmonic', 'struck-together']\n"
     ]
    }
   ],
   "source": [
    "from pathlib import Path\n",
    "\n",
    "instruments = []\n",
    "instruments_all = []\n",
    "notes = []\n",
    "notes_all = []\n",
    "dynamics = []\n",
    "dynamics_all = []\n",
    "techniques = []\n",
    "techniques_all = []\n",
    "for (im_dirpath, im_dirnames, im_filenames) in os.walk(os.path.join(path, set)):\n",
    "    for name in im_filenames:\n",
    "        name_split = name.split('_')\n",
    "        \n",
    "        instrument = name_split[0]\n",
    "        if instrument in chromatic_prec:\n",
    "            instrument = 'chromatic-percussion'\n",
    "        instruments_all.append(instrument)\n",
    "        \n",
    "        note = name_split[1]\n",
    "        notes_all.append(note)\n",
    "        \n",
    "        dynamic = name_split[3]\n",
    "        dynamics_all.append(dynamic)\n",
    "        \n",
    "        technique = name_split[4].split('.')[0]\n",
    "        techniques_all.append(technique)\n",
    "        \n",
    "        if instrument not in instruments:\n",
    "            instruments.append(instrument)\n",
    "        if note not in notes:\n",
    "            notes.append(note)\n",
    "        if dynamic not in dynamics:\n",
    "            dynamics.append(dynamic)\n",
    "        if technique not in techniques:# and instrument in brass:\n",
    "            techniques.append(technique)\n",
    "\n",
    "print(instruments)        \n",
    "print(notes)\n",
    "print(dynamics)\n",
    "print(techniques)"
   ]
  },
  {
   "cell_type": "code",
   "execution_count": null,
   "id": "entire-holiday",
   "metadata": {},
   "outputs": [],
   "source": []
  },
  {
   "cell_type": "code",
   "execution_count": 36,
   "id": "prerequisite-enlargement",
   "metadata": {},
   "outputs": [],
   "source": [
    "count_instr = [instruments_all.count(instr) for instr in instruments]   \n",
    "df_instr = pd.DataFrame(list(zip(instruments, count_instr)), columns=['instruments', 'count'])"
   ]
  },
  {
   "cell_type": "code",
   "execution_count": 37,
   "id": "academic-establishment",
   "metadata": {},
   "outputs": [
    {
     "data": {
      "text/html": [
       "<div>\n",
       "<style scoped>\n",
       "    .dataframe tbody tr th:only-of-type {\n",
       "        vertical-align: middle;\n",
       "    }\n",
       "\n",
       "    .dataframe tbody tr th {\n",
       "        vertical-align: top;\n",
       "    }\n",
       "\n",
       "    .dataframe thead th {\n",
       "        text-align: right;\n",
       "    }\n",
       "</style>\n",
       "<table border=\"1\" class=\"dataframe\">\n",
       "  <thead>\n",
       "    <tr style=\"text-align: right;\">\n",
       "      <th></th>\n",
       "      <th>instruments</th>\n",
       "      <th>count</th>\n",
       "    </tr>\n",
       "  </thead>\n",
       "  <tbody>\n",
       "    <tr>\n",
       "      <th>0</th>\n",
       "      <td>banjo</td>\n",
       "      <td>4</td>\n",
       "    </tr>\n",
       "    <tr>\n",
       "      <th>1</th>\n",
       "      <td>bass-clarinet</td>\n",
       "      <td>48</td>\n",
       "    </tr>\n",
       "    <tr>\n",
       "      <th>2</th>\n",
       "      <td>chromatic-percussion</td>\n",
       "      <td>15</td>\n",
       "    </tr>\n",
       "    <tr>\n",
       "      <th>3</th>\n",
       "      <td>bassoon</td>\n",
       "      <td>36</td>\n",
       "    </tr>\n",
       "    <tr>\n",
       "      <th>4</th>\n",
       "      <td>cello</td>\n",
       "      <td>44</td>\n",
       "    </tr>\n",
       "    <tr>\n",
       "      <th>5</th>\n",
       "      <td>clarinet</td>\n",
       "      <td>42</td>\n",
       "    </tr>\n",
       "    <tr>\n",
       "      <th>6</th>\n",
       "      <td>contrabassoon</td>\n",
       "      <td>35</td>\n",
       "    </tr>\n",
       "    <tr>\n",
       "      <th>7</th>\n",
       "      <td>double-bass</td>\n",
       "      <td>43</td>\n",
       "    </tr>\n",
       "    <tr>\n",
       "      <th>8</th>\n",
       "      <td>english-horn</td>\n",
       "      <td>35</td>\n",
       "    </tr>\n",
       "    <tr>\n",
       "      <th>9</th>\n",
       "      <td>flute</td>\n",
       "      <td>44</td>\n",
       "    </tr>\n",
       "    <tr>\n",
       "      <th>10</th>\n",
       "      <td>french-horn</td>\n",
       "      <td>33</td>\n",
       "    </tr>\n",
       "    <tr>\n",
       "      <th>11</th>\n",
       "      <td>guitar</td>\n",
       "      <td>5</td>\n",
       "    </tr>\n",
       "    <tr>\n",
       "      <th>12</th>\n",
       "      <td>mandolin</td>\n",
       "      <td>4</td>\n",
       "    </tr>\n",
       "    <tr>\n",
       "      <th>13</th>\n",
       "      <td>oboe</td>\n",
       "      <td>29</td>\n",
       "    </tr>\n",
       "    <tr>\n",
       "      <th>14</th>\n",
       "      <td>saxophone</td>\n",
       "      <td>37</td>\n",
       "    </tr>\n",
       "    <tr>\n",
       "      <th>15</th>\n",
       "      <td>trombone</td>\n",
       "      <td>42</td>\n",
       "    </tr>\n",
       "    <tr>\n",
       "      <th>16</th>\n",
       "      <td>trumpet</td>\n",
       "      <td>25</td>\n",
       "    </tr>\n",
       "    <tr>\n",
       "      <th>17</th>\n",
       "      <td>tuba</td>\n",
       "      <td>49</td>\n",
       "    </tr>\n",
       "    <tr>\n",
       "      <th>18</th>\n",
       "      <td>viola</td>\n",
       "      <td>49</td>\n",
       "    </tr>\n",
       "    <tr>\n",
       "      <th>19</th>\n",
       "      <td>violin</td>\n",
       "      <td>75</td>\n",
       "    </tr>\n",
       "  </tbody>\n",
       "</table>\n",
       "</div>"
      ],
      "text/plain": [
       "             instruments  count\n",
       "0                  banjo      4\n",
       "1          bass-clarinet     48\n",
       "2   chromatic-percussion     15\n",
       "3                bassoon     36\n",
       "4                  cello     44\n",
       "5               clarinet     42\n",
       "6          contrabassoon     35\n",
       "7            double-bass     43\n",
       "8           english-horn     35\n",
       "9                  flute     44\n",
       "10           french-horn     33\n",
       "11                guitar      5\n",
       "12              mandolin      4\n",
       "13                  oboe     29\n",
       "14             saxophone     37\n",
       "15              trombone     42\n",
       "16               trumpet     25\n",
       "17                  tuba     49\n",
       "18                 viola     49\n",
       "19                violin     75"
      ]
     },
     "execution_count": 37,
     "metadata": {},
     "output_type": "execute_result"
    }
   ],
   "source": [
    "df_instr"
   ]
  },
  {
   "cell_type": "code",
   "execution_count": 7,
   "id": "loved-distinction",
   "metadata": {},
   "outputs": [
    {
     "data": {
      "text/plain": [
       "<seaborn.axisgrid.FacetGrid at 0x23de6f97130>"
      ]
     },
     "execution_count": 7,
     "metadata": {},
     "output_type": "execute_result"
    },
    {
     "data": {
      "image/png": "[encoded data removed]",
      "text/plain": [
       "<Figure size 900x360 with 1 Axes>"
      ]
     },
     "metadata": {
      "needs_background": "light"
     },
     "output_type": "display_data"
    }
   ],
   "source": [
    "#sns.set(rc={'figure.figsize':(20 , 20)})\n",
    "g = sns.displot(data=df_instr, x='instruments', aspect=2.5)\n",
    "g.set_xticklabels(rotation=30)"
   ]
  },
  {
   "cell_type": "code",
   "execution_count": null,
   "id": "strange-creativity",
   "metadata": {},
   "outputs": [],
   "source": []
  },
  {
   "cell_type": "code",
   "execution_count": 8,
   "id": "spiritual-marina",
   "metadata": {},
   "outputs": [],
   "source": [
    "count_notes = [notes_all.count(note) for note in notes]   \n",
    "df_note = pd.DataFrame(list(zip(notes, count_notes)), columns=['note', 'count'])"
   ]
  },
  {
   "cell_type": "code",
   "execution_count": 9,
   "id": "radical-moore",
   "metadata": {},
   "outputs": [
    {
     "data": {
      "text/html": [
       "<div>\n",
       "<style scoped>\n",
       "    .dataframe tbody tr th:only-of-type {\n",
       "        vertical-align: middle;\n",
       "    }\n",
       "\n",
       "    .dataframe tbody tr th {\n",
       "        vertical-align: top;\n",
       "    }\n",
       "\n",
       "    .dataframe thead th {\n",
       "        text-align: right;\n",
       "    }\n",
       "</style>\n",
       "<table border=\"1\" class=\"dataframe\">\n",
       "  <thead>\n",
       "    <tr style=\"text-align: right;\">\n",
       "      <th></th>\n",
       "      <th>note</th>\n",
       "      <th>count</th>\n",
       "    </tr>\n",
       "  </thead>\n",
       "  <tbody>\n",
       "    <tr>\n",
       "      <th>0</th>\n",
       "      <td></td>\n",
       "      <td>128</td>\n",
       "    </tr>\n",
       "    <tr>\n",
       "      <th>1</th>\n",
       "      <td>A3</td>\n",
       "      <td>298</td>\n",
       "    </tr>\n",
       "    <tr>\n",
       "      <th>2</th>\n",
       "      <td>A4</td>\n",
       "      <td>272</td>\n",
       "    </tr>\n",
       "    <tr>\n",
       "      <th>3</th>\n",
       "      <td>A5</td>\n",
       "      <td>203</td>\n",
       "    </tr>\n",
       "    <tr>\n",
       "      <th>4</th>\n",
       "      <td>As3</td>\n",
       "      <td>330</td>\n",
       "    </tr>\n",
       "    <tr>\n",
       "      <th>...</th>\n",
       "      <td>...</td>\n",
       "      <td>...</td>\n",
       "    </tr>\n",
       "    <tr>\n",
       "      <th>74</th>\n",
       "      <td>A7</td>\n",
       "      <td>2</td>\n",
       "    </tr>\n",
       "    <tr>\n",
       "      <th>75</th>\n",
       "      <td>As7</td>\n",
       "      <td>1</td>\n",
       "    </tr>\n",
       "    <tr>\n",
       "      <th>76</th>\n",
       "      <td>B7</td>\n",
       "      <td>2</td>\n",
       "    </tr>\n",
       "    <tr>\n",
       "      <th>77</th>\n",
       "      <td>C8</td>\n",
       "      <td>1</td>\n",
       "    </tr>\n",
       "    <tr>\n",
       "      <th>78</th>\n",
       "      <td>E8</td>\n",
       "      <td>1</td>\n",
       "    </tr>\n",
       "  </tbody>\n",
       "</table>\n",
       "<p>79 rows × 2 columns</p>\n",
       "</div>"
      ],
      "text/plain": [
       "   note  count\n",
       "0          128\n",
       "1    A3    298\n",
       "2    A4    272\n",
       "3    A5    203\n",
       "4   As3    330\n",
       "..  ...    ...\n",
       "74   A7      2\n",
       "75  As7      1\n",
       "76   B7      2\n",
       "77   C8      1\n",
       "78   E8      1\n",
       "\n",
       "[79 rows x 2 columns]"
      ]
     },
     "execution_count": 9,
     "metadata": {},
     "output_type": "execute_result"
    }
   ],
   "source": [
    "df_note"
   ]
  },
  {
   "cell_type": "code",
   "execution_count": 10,
   "id": "million-serial",
   "metadata": {},
   "outputs": [
    {
     "name": "stdout",
     "output_type": "stream",
     "text": [
      "['', 'A3', 'A4', 'A5', 'As3', 'As4', 'As5', 'B3', 'B4', 'B5', 'C3', 'C4', 'C5', 'C6', 'Cs3', 'Cs4', 'Cs5', 'Cs6', 'D3', 'D4', 'D5', 'D6', 'Ds3', 'Ds4', 'Ds5', 'Ds6', 'E3', 'E4', 'E5', 'E6', 'F3', 'F4', 'F5', 'Fs3', 'Fs4', 'Fs5', 'A2', 'As2', 'B2', 'C2', 'Cs2', 'D2', 'Ds2', 'E2', 'F2', 'Fs2', 'G2', 'As1', 'B1', 'As6', 'C7', 'A6', 'B6', 'F6', 'Fs6', 'G3', 'A1', 'As0', 'B0', 'C1', 'Cs1', 'D1', 'Ds1', 'E1', 'F1', 'Fs1', 'G1', 'Cs7', 'D7', 'Ds7', 'E7', 'F7', 'G4', 'Fs7', 'A7', 'As7', 'B7', 'C8', 'E8']\n"
     ]
    }
   ],
   "source": [
    "print([note for note in notes])"
   ]
  },
  {
   "cell_type": "code",
   "execution_count": null,
   "id": "metropolitan-brake",
   "metadata": {},
   "outputs": [],
   "source": []
  }
 ],
 "metadata": {
  "kernelspec": {
   "display_name": "Python 3",
   "language": "python",
   "name": "python3"
  },
  "language_info": {
   "codemirror_mode": {
    "name": "ipython",
    "version": 3
   },
   "file_extension": ".py",
   "mimetype": "text/x-python",
   "name": "python",
   "nbconvert_exporter": "python",
   "pygments_lexer": "ipython3",
   "version": "3.8.3"
  }
 },
 "nbformat": 4,
 "nbformat_minor": 5
}
